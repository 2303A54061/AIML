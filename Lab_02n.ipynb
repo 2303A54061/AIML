{
  "nbformat": 4,
  "nbformat_minor": 0,
  "metadata": {
    "colab": {
      "provenance": [],
      "authorship_tag": "ABX9TyMm3BnXmcCUW3dK4fC7yYJl",
      "include_colab_link": true
    },
    "kernelspec": {
      "name": "python3",
      "display_name": "Python 3"
    },
    "language_info": {
      "name": "python"
    }
  },
  "cells": [
    {
      "cell_type": "markdown",
      "metadata": {
        "id": "view-in-github",
        "colab_type": "text"
      },
      "source": [
        "<a href=\"https://colab.research.google.com/github/2303A54061/AIML/blob/main/Lab_02n.ipynb\" target=\"_parent\"><img src=\"https://colab.research.google.com/assets/colab-badge.svg\" alt=\"Open In Colab\"/></a>"
      ]
    },
    {
      "cell_type": "code",
      "execution_count": null,
      "metadata": {
        "id": "bPB-Ew-P07uI"
      },
      "outputs": [],
      "source": [
        "import numpy as np\n",
        "import pandas as pd\n"
      ]
    },
    {
      "cell_type": "code",
      "source": [
        "df1=pd.read_table(\"/content/drive/MyDrive/DATA VISUAL/pp.txt\")"
      ],
      "metadata": {
        "id": "yamH4AiG8obM"
      },
      "execution_count": null,
      "outputs": []
    },
    {
      "cell_type": "code",
      "source": [
        "data2=pd.read_csv(\"/content/drive/MyDrive/DATA VISUAL/Spd.csv\")"
      ],
      "metadata": {
        "id": "mjyWl3wc5Sno"
      },
      "execution_count": null,
      "outputs": []
    },
    {
      "cell_type": "code",
      "source": [
        "data3=pd.read_excel(\"/content/drive/MyDrive/DATA VISUAL/Historicalinvesttemp.xlsx\")"
      ],
      "metadata": {
        "id": "4EaQ6GYk-xjy"
      },
      "execution_count": null,
      "outputs": []
    },
    {
      "cell_type": "code",
      "source": [
        "from google.colab import drive\n",
        "drive.mount('/content/drive')"
      ],
      "metadata": {
        "colab": {
          "base_uri": "https://localhost:8080/"
        },
        "id": "ENy3iuGm553t",
        "outputId": "3a9fd514-dc51-4eaa-d72a-7f1a4d12384c"
      },
      "execution_count": null,
      "outputs": [
        {
          "output_type": "stream",
          "name": "stdout",
          "text": [
            "Mounted at /content/drive\n"
          ]
        }
      ]
    },
    {
      "cell_type": "markdown",
      "source": [
        "# New section"
      ],
      "metadata": {
        "id": "8snBnqq03-AD"
      }
    },
    {
      "cell_type": "code",
      "source": [
        "import numpy as np\n",
        "from queue import Queue\n"
      ],
      "metadata": {
        "id": "0AKG0UpsBm9q"
      },
      "execution_count": null,
      "outputs": []
    },
    {
      "cell_type": "code",
      "source": [
        "def bfs(graph, source):\n",
        "  Q=Queue()\n",
        "  visited_vertices=set()\n",
        "  Q.put(source)\n",
        "  visited_vertices.add(source)\n",
        "\n",
        "  while not Q.empty():\n",
        "    vertex=Q.get()\n",
        "    print(vertex,end=\"-->\")\n",
        "\n",
        "    for u in graph[vertex]:\n",
        "      if u not in visited_vertices:\n",
        "        Q.put(u)\n",
        "        visited_vertices.add(u)\n",
        "\n",
        "print(\"BFS traversal of graph with source 0\")\n",
        "bfs(graph,0)\n",
        "\n"
      ],
      "metadata": {
        "colab": {
          "base_uri": "https://localhost:8080/"
        },
        "id": "OsEhj06MET04",
        "outputId": "2542d33a-c379-497e-ccde-e5d185758efa"
      },
      "execution_count": null,
      "outputs": [
        {
          "output_type": "stream",
          "name": "stdout",
          "text": [
            "BFS traversal of graph with source 0\n",
            "0-->1-->2-->3-->5-->4-->6-->7-->"
          ]
        }
      ]
    },
    {
      "cell_type": "code",
      "source": [
        "graph={\n",
        "    0:[1,2,3],\n",
        "    1:[0,2],\n",
        "    2:[0,1,3,5],\n",
        "    3:[0,2,4],\n",
        "    4:[3,5,7],\n",
        "    5:[2,4,6,7],\n",
        "    6:[5,7],\n",
        "    7:[4,5,6],\n",
        "    8:[]\n",
        "\n",
        "}\n",
        "print(\"The adjacency List representing the graph is: \")\n",
        "print(graph)"
      ],
      "metadata": {
        "colab": {
          "base_uri": "https://localhost:8080/"
        },
        "id": "57Xrc0lFCE0P",
        "outputId": "8ec01f2e-e5b4-4ce8-9816-3b44feed3ee7"
      },
      "execution_count": null,
      "outputs": [
        {
          "output_type": "stream",
          "name": "stdout",
          "text": [
            "The adjacency List representing the graph is: \n",
            "{0: [1, 2, 3], 1: [0, 2], 2: [0, 1, 3, 5], 3: [0, 2, 4], 4: [3, 5, 7], 5: [2, 4, 6, 7], 6: [5, 7], 7: [4, 5, 6], 8: []}\n"
          ]
        }
      ]
    }
  ]
}